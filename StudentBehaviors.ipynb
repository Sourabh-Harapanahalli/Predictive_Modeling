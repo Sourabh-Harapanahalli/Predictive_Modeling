{
  "nbformat": 4,
  "nbformat_minor": 0,
  "metadata": {
    "colab": {
      "provenance": []
    },
    "kernelspec": {
      "name": "python3",
      "display_name": "Python 3"
    },
    "language_info": {
      "name": "python"
    }
  },
  "cells": [
    {
      "cell_type": "code",
      "source": [
        "!wget -q 'https://drive.google.com/uc?export=download&id=1fwz1B2zzBAjlG8fx8qqmJmKK2v9YCDD2' -O \"overdrawn.csv\""
      ],
      "metadata": {
        "id": "sMABAlCVglai"
      },
      "execution_count": 13,
      "outputs": []
    },
    {
      "cell_type": "code",
      "execution_count": 14,
      "metadata": {
        "colab": {
          "base_uri": "https://localhost:8080/"
        },
        "id": "XTm84houSnGg",
        "outputId": "c610ea50-1833-4889-f0e9-b6a532922543"
      },
      "outputs": [
        {
          "output_type": "stream",
          "name": "stdout",
          "text": [
            "Accuracy Score: 0.8939393939393939\n",
            "Confusion Matrix:\n",
            "[[116   4]\n",
            " [ 10   2]]\n"
          ]
        }
      ],
      "source": [
        "import pandas as pd\n",
        "import numpy as np\n",
        "from sklearn.model_selection import train_test_split\n",
        "from sklearn.tree import DecisionTreeClassifier\n",
        "from sklearn.metrics import accuracy_score, confusion_matrix\n",
        "\n",
        "# Read the dataset\n",
        "df = pd.read_csv('overdrawn.csv')\n",
        "\n",
        "# Convert 'DaysDrink' into categorical data\n",
        "conditions = [\n",
        "    (df['DaysDrink'] < 7),\n",
        "    (df['DaysDrink'] >= 14),\n",
        "    (df['DaysDrink'] >= 7) & (df['DaysDrink'] < 14)\n",
        "]\n",
        "categories = [0, 2, 1]\n",
        "\n",
        "# Apply the conditions to create the categorical data\n",
        "df['DaysDrink'] = np.select(conditions, categories)\n",
        "\n",
        "# Splitting features and target variable\n",
        "X = df[['Age', 'Sex', 'DaysDrink']]\n",
        "y = df['Overdrawn']\n",
        "\n",
        "# Split the data into training and testing sets\n",
        "X_train, X_test, y_train, y_test = train_test_split(X, y, test_size=0.3)\n",
        "\n",
        "# Create and train the Decision Tree classifier\n",
        "dtree = DecisionTreeClassifier()\n",
        "dtree.fit(X_train, y_train)\n",
        "\n",
        "# Make predictions on the testing set\n",
        "predictions = dtree.predict(X_test)\n",
        "\n",
        "# Print the accuracy score and confusion matrix\n",
        "print(\"Accuracy Score:\", accuracy_score(y_test, predictions))\n",
        "print(\"Confusion Matrix:\")\n",
        "print(confusion_matrix(y_test, predictions))\n"
      ]
    },
    {
      "cell_type": "code",
      "source": [
        "from sklearn import tree\n",
        "import graphviz\n",
        "\n",
        "# Export the decision tree to a Graphviz dot file\n",
        "dot_data = tree.export_graphviz(dtree, out_file=None,\n",
        "                                feature_names=['Age', 'Sex', 'DaysDrink'],\n",
        "                                class_names=['Not Overdrawn', 'Overdrawn'],\n",
        "                                filled=True, rounded=True)\n",
        "\n",
        "# Convert the dot file to a graph and render it\n",
        "graph = graphviz.Source(dot_data)\n",
        "graph.render('overdrawn_dt', view=True)\n"
      ],
      "metadata": {
        "colab": {
          "base_uri": "https://localhost:8080/",
          "height": 36
        },
        "id": "1YQL_RHUUpr6",
        "outputId": "d32cf0f8-1dea-4792-f4f1-240d5adfc508"
      },
      "execution_count": 15,
      "outputs": [
        {
          "output_type": "execute_result",
          "data": {
            "text/plain": [
              "'overdrawn_dt.pdf'"
            ],
            "application/vnd.google.colaboratory.intrinsic+json": {
              "type": "string"
            }
          },
          "metadata": {},
          "execution_count": 15
        }
      ]
    },
    {
      "cell_type": "code",
      "source": [
        "# Define a function to make predictions for new data points\n",
        "def predict_overdrawn(age, sex, days_drink):\n",
        "    # Convert days_drink into categorical data\n",
        "    if days_drink < 7:\n",
        "        days_drink_cat = 0\n",
        "    elif days_drink >= 14:\n",
        "        days_drink_cat = 2\n",
        "    else:\n",
        "        days_drink_cat = 1\n",
        "\n",
        "    # Make a prediction\n",
        "    prediction = dtree.predict([[age, sex, days_drink_cat]])\n",
        "    if prediction[0] == 1:\n",
        "        return \"Yes\"\n",
        "    else:\n",
        "        return \"No\"\n",
        "\n",
        "# Queries\n",
        "queries = [\n",
        "    (20, 0, 10),  # 20-year-old male, 10 days of drinking\n",
        "    (25, 1, 5),   # 25-year-old female, 5 days of drinking\n",
        "    (19, 0, 20),  # 19-year-old male, 20 days of drinking\n",
        "    (22, 1, 15),  # 22-year-old female, 15 days of drinking\n",
        "    (21, 0, 20)   # 21-year-old male, 20 days of drinking\n",
        "]\n",
        "\n",
        "# Perform predictions for each query\n",
        "for i, query in enumerate(queries, 1):\n",
        "    age, sex, days_drink = query\n",
        "    prediction = predict_overdrawn(age, sex, days_drink)\n",
        "    print(f\"Prediction {i}: Will the student overdraw a checking account? {prediction}\")"
      ],
      "metadata": {
        "colab": {
          "base_uri": "https://localhost:8080/"
        },
        "id": "HTJaliJdX2PC",
        "outputId": "a0fcd9c4-6f78-4ba8-85a3-3daf236d62af"
      },
      "execution_count": 16,
      "outputs": [
        {
          "output_type": "stream",
          "name": "stdout",
          "text": [
            "Prediction 1: Will the student overdraw a checking account? No\n",
            "Prediction 2: Will the student overdraw a checking account? No\n",
            "Prediction 3: Will the student overdraw a checking account? No\n",
            "Prediction 4: Will the student overdraw a checking account? No\n",
            "Prediction 5: Will the student overdraw a checking account? No\n"
          ]
        },
        {
          "output_type": "stream",
          "name": "stderr",
          "text": [
            "/usr/local/lib/python3.10/dist-packages/sklearn/base.py:439: UserWarning: X does not have valid feature names, but DecisionTreeClassifier was fitted with feature names\n",
            "  warnings.warn(\n",
            "/usr/local/lib/python3.10/dist-packages/sklearn/base.py:439: UserWarning: X does not have valid feature names, but DecisionTreeClassifier was fitted with feature names\n",
            "  warnings.warn(\n",
            "/usr/local/lib/python3.10/dist-packages/sklearn/base.py:439: UserWarning: X does not have valid feature names, but DecisionTreeClassifier was fitted with feature names\n",
            "  warnings.warn(\n",
            "/usr/local/lib/python3.10/dist-packages/sklearn/base.py:439: UserWarning: X does not have valid feature names, but DecisionTreeClassifier was fitted with feature names\n",
            "  warnings.warn(\n",
            "/usr/local/lib/python3.10/dist-packages/sklearn/base.py:439: UserWarning: X does not have valid feature names, but DecisionTreeClassifier was fitted with feature names\n",
            "  warnings.warn(\n"
          ]
        }
      ]
    }
  ]
}